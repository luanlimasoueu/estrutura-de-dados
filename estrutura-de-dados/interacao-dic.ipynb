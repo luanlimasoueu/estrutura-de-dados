{
 "cells": [
  {
   "cell_type": "code",
   "execution_count": 1,
   "metadata": {},
   "outputs": [
    {
     "name": "stdout",
     "output_type": "stream",
     "text": [
      "{'name': 'mradul', 'age': 23, 'city': 'indore'}\n"
     ]
    }
   ],
   "source": [
    "dict1={\"name\": \"mradul\",\"age\": 23,\"city\": \"indore\"}\n",
    "print(dict1)"
   ]
  },
  {
   "cell_type": "code",
   "execution_count": 2,
   "metadata": {},
   "outputs": [
    {
     "name": "stdout",
     "output_type": "stream",
     "text": [
      "dict_keys(['name', 'age', 'city'])\n"
     ]
    }
   ],
   "source": [
    "dict1 = {\"name\":\"mradul\",\"age\":23,\"city\":\"indore\"}\n",
    "print(dict1.keys())"
   ]
  },
  {
   "cell_type": "code",
   "execution_count": 3,
   "metadata": {},
   "outputs": [
    {
     "name": "stdout",
     "output_type": "stream",
     "text": [
      "dict_values(['mradul', 23, 'indore'])\n"
     ]
    }
   ],
   "source": [
    "dict1 = {\"name\":\"mradul\",\"age\":23,\"city\":\"indore\"}\n",
    "print(dict1.values())"
   ]
  },
  {
   "cell_type": "code",
   "execution_count": 4,
   "metadata": {},
   "outputs": [
    {
     "name": "stdout",
     "output_type": "stream",
     "text": [
      "dict_items([('name', 'mradul'), ('age', 23), ('city', 'indore')])\n"
     ]
    }
   ],
   "source": [
    "dict1 = {\"name\":\"mradul\",\"age\":23,\"city\":\"indore\"}\n",
    "print(dict1.items())"
   ]
  },
  {
   "cell_type": "code",
   "execution_count": 5,
   "metadata": {},
   "outputs": [
    {
     "name": "stdout",
     "output_type": "stream",
     "text": [
      "name mradul\n",
      "age 23\n",
      "city indore\n"
     ]
    }
   ],
   "source": [
    "dict1 = {\"name\":\"mradul\",\"age\":23,\"city\":\"indore\"}\n",
    "\n",
    "for k, v in dict1.items():\n",
    "    print(k, v)"
   ]
  },
  {
   "cell_type": "code",
   "execution_count": 6,
   "metadata": {},
   "outputs": [
    {
     "name": "stdout",
     "output_type": "stream",
     "text": [
      "c\n",
      "c\n",
      "e\n",
      "a\n",
      "b\n",
      "d\n",
      "e\n",
      "c\n",
      "c\n",
      "b\n"
     ]
    }
   ],
   "source": [
    "graph = { \"a\" : [\"c\"],\n",
    "          \"b\" : [\"c\", \"e\"],\n",
    "          \"c\" : [\"a\", \"b\", \"d\", \"e\"],\n",
    "          \"d\" : [\"c\"],\n",
    "          \"e\" : [\"c\", \"b\"],\n",
    "          \"f\" : []\n",
    "        } \n",
    "\n",
    "for node in graph:\n",
    "    for neighbour in graph[node]:\n",
    "        print(neighbour)"
   ]
  },
  {
   "cell_type": "code",
   "execution_count": 7,
   "metadata": {},
   "outputs": [
    {
     "name": "stdout",
     "output_type": "stream",
     "text": [
      "B 5\n",
      "C 2\n",
      "E 7\n",
      "D 9\n",
      "C 2\n",
      "D 3\n",
      "B 3\n",
      "D 7\n"
     ]
    }
   ],
   "source": [
    "distances = {\n",
    "    'A': {'B': 5, 'C': 2},\n",
    "   \n",
    "    'D': {'E': 7},\n",
    "    'E': {'D': 9},\n",
    "\n",
    "    'B': {'C': 2, 'D': 3},\n",
    "    'C': {'B': 3, 'D': 7}}\n",
    "\n",
    "for node in distances:\n",
    "    for neighbour, distance in distances[node].items():\n",
    "        print(neighbour, distance)"
   ]
  },
  {
   "cell_type": "code",
   "execution_count": 8,
   "metadata": {},
   "outputs": [
    {
     "name": "stdout",
     "output_type": "stream",
     "text": [
      "(2, 5)\n",
      " ------------------ \n",
      "(1, 4)\n",
      " ------------------ \n",
      "(2, 3)\n",
      " ------------------ \n",
      "(3, 2)\n",
      " ------------------ \n",
      "(0, 4)\n",
      " ------------------ \n",
      "(1, 3)\n",
      " ------------------ \n",
      "(0, 5)\n",
      " ------------------ \n",
      "(3, 6)\n",
      " ------------------ \n",
      "(1, 2)\n",
      " ------------------ \n",
      "(2, 6)\n",
      " ------------------ \n"
     ]
    }
   ],
   "source": [
    "vertices = {\n",
    "    0: [(1, 4), (2, 5)],\n",
    "    1: [(0, 4), (2, 3), (3, 2)],\n",
    "    2: [(0, 5), (1, 3), (3, 6)],\n",
    "    3: [(1, 2), (2, 6)]\n",
    "}\n",
    "\n",
    "\n",
    "edges = {\n",
    "    0: {(1, 4), (2, 5)},\n",
    "    1: {(0, 4), (2, 3), (3, 2)},\n",
    "    2: {(0, 5), (1, 3), (3, 6)},\n",
    "    3: {(1, 2), (2, 6)}\n",
    "}\n",
    "\n",
    "for i, j in edges.items():\n",
    "    for n in j:\n",
    "        print(n)\n",
    "        print(' ------------------ ')\n",
    "        "
   ]
  }
 ],
 "metadata": {
  "kernelspec": {
   "display_name": "Python 3",
   "language": "python",
   "name": "python3"
  },
  "language_info": {
   "codemirror_mode": {
    "name": "ipython",
    "version": 3
   },
   "file_extension": ".py",
   "mimetype": "text/x-python",
   "name": "python",
   "nbconvert_exporter": "python",
   "pygments_lexer": "ipython3",
   "version": "3.10.7"
  }
 },
 "nbformat": 4,
 "nbformat_minor": 2
}
