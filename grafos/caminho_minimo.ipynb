{
 "cells": [
  {
   "cell_type": "code",
   "execution_count": 1,
   "metadata": {},
   "outputs": [],
   "source": [
    "graph = { \"a\" : [\"b\", \"d\", \"f\"],\n",
    "          \"b\" : [\"c\"],\n",
    "          \"c\" : [ \"d\"],\n",
    "          \"d\" : [ \"e\", \"j\"],\n",
    "          \"e\" : [\"a\"],\n",
    "          \"j\" : [\"k\"],\n",
    "          \"k\" : [\"l\"],\n",
    "          \"l\" : [\"a\"],\n",
    "          \"f\" : [ \"g\"],\n",
    "          \"g\" : [ \"h\"],\n",
    "          \"h\" : [ \"i\"],\n",
    "          \"i\" : [\"a\"]\n",
    "\n",
    "          \n",
    "        } \n",
    "\n",
    "visited = {'a': 0, 'b': 0, 'c': 0, 'd': 0, 'e': 0, 'j': 0, 'k': 0, 'l': 0, 'f': 0, 'g': 0, 'h': 0, 'i': 0}\n",
    "\n",
    "def dfs(graph, visited, u):\n",
    "    #print(u)\n",
    "    visited[u] = visited[u] + 1\n",
    "    #for v in adj[u]:\n",
    "        #if visited[v] != True:\n",
    "            #dfs(v)\n",
    "    for neighbour in graph[u]:\n",
    "        if visited[neighbour] < 2 and neighbour != \"a\":\n",
    "            print(neighbour)\n",
    "            dfs(graph, visited, neighbour)\n",
    "        \n",
    "        if neighbour != \"a\":\n",
    "            break"
   ]
  },
  {
   "cell_type": "code",
   "execution_count": 2,
   "metadata": {},
   "outputs": [
    {
     "name": "stdout",
     "output_type": "stream",
     "text": [
      "a\n",
      "b\n",
      "c\n",
      "d\n",
      "e\n",
      "a\n",
      " ----- \n",
      "a\n",
      "d\n",
      "e\n",
      "a\n",
      " ----- \n",
      "a\n",
      "f\n",
      "g\n",
      "h\n",
      "i\n",
      "a\n",
      " ----- \n"
     ]
    }
   ],
   "source": [
    "for i in graph['a']:\n",
    "    print('a')\n",
    "    print(i)\n",
    "    dfs(graph, visited, i )\n",
    "    print('a')\n",
    "    print(' ----- ')"
   ]
  }
 ],
 "metadata": {
  "kernelspec": {
   "display_name": "Python 3",
   "language": "python",
   "name": "python3"
  },
  "language_info": {
   "codemirror_mode": {
    "name": "ipython",
    "version": 3
   },
   "file_extension": ".py",
   "mimetype": "text/x-python",
   "name": "python",
   "nbconvert_exporter": "python",
   "pygments_lexer": "ipython3",
   "version": "3.10.7"
  }
 },
 "nbformat": 4,
 "nbformat_minor": 2
}
