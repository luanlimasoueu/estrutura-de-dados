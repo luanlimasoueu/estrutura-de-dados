{
 "cells": [
  {
   "cell_type": "code",
   "execution_count": 1,
   "metadata": {},
   "outputs": [
    {
     "name": "stdout",
     "output_type": "stream",
     "text": [
      "0\n",
      "1\n",
      "2\n",
      "3\n",
      "5\n",
      "4\n",
      "6\n",
      "7\n"
     ]
    }
   ],
   "source": [
    "adj = [[1, 2], [3], [5], [4, 6], [], [7],[], [] ]\n",
    "\n",
    "visited = [[], [], [], [], [],  [], [], []]\n",
    "\n",
    "def bfs(u):\n",
    "    fila = []\n",
    "    fila.append(u)\n",
    "    while fila:\n",
    "        v = fila[0]\n",
    "        fila.pop(0)\n",
    "        print(v)\n",
    "        visited[v] = True\n",
    "        for e in adj[v]:\n",
    "            if visited[e] != True:\n",
    "                fila.append(e)\n",
    "\n",
    "bfs(0)"
   ]
  },
  {
   "cell_type": "code",
   "execution_count": 2,
   "metadata": {},
   "outputs": [
    {
     "data": {
      "text/plain": [
       "[3, 2, 4, 1, 0]"
      ]
     },
     "execution_count": 2,
     "metadata": {},
     "output_type": "execute_result"
    }
   ],
   "source": [
    "num_nodes1 = 5\n",
    "edges1 = [(0, 1), (1, 2), (2, 3), (3, 4), (4, 0), (1, 4), (1, 3)]\n",
    "num_nodes1, len(edges1)\n",
    "\n",
    "class Graph:\n",
    "    def __init__(self, num_nodes, edges):\n",
    "        self.data = [[] for _ in range(num_nodes)]\n",
    "        for v1, v2 in edges:\n",
    "            self.data[v1].append(v2)\n",
    "            self.data[v2].append(v1)\n",
    "            \n",
    "    def __repr__(self):\n",
    "        return \"\\n\".join([\"{} : {}\".format(i, neighbors) for (i, neighbors) in enumerate(self.data)])\n",
    "\n",
    "    def __str__(self):\n",
    "        return repr(self)\n",
    "    \n",
    "g1 = Graph(num_nodes1, edges1)\n",
    "\n",
    "def bfs(graph, source):\n",
    "    visited = [False] * len(graph.data)\n",
    "    queue = []\n",
    "    \n",
    "    visited[source] = True    \n",
    "    queue.append(source)\n",
    "    i = 0\n",
    "    \n",
    "    while i < len(queue):\n",
    "        for v in graph.data[queue[i]]:\n",
    "            if not visited[v]:\n",
    "                visited[v] = True\n",
    "                queue.append(v)\n",
    "        i += 1\n",
    "        \n",
    "    return queue\n",
    "\n",
    "bfs(g1, 3)"
   ]
  }
 ],
 "metadata": {
  "kernelspec": {
   "display_name": "Python 3",
   "language": "python",
   "name": "python3"
  },
  "language_info": {
   "codemirror_mode": {
    "name": "ipython",
    "version": 3
   },
   "file_extension": ".py",
   "mimetype": "text/x-python",
   "name": "python",
   "nbconvert_exporter": "python",
   "pygments_lexer": "ipython3",
   "version": "3.10.7"
  }
 },
 "nbformat": 4,
 "nbformat_minor": 2
}
