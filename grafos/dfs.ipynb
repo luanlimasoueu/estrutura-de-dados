{
 "cells": [
  {
   "cell_type": "code",
   "execution_count": 1,
   "metadata": {},
   "outputs": [
    {
     "name": "stdout",
     "output_type": "stream",
     "text": [
      "0\n",
      "1\n",
      "3\n",
      "4\n",
      "6\n",
      "2\n",
      "5\n",
      "7\n"
     ]
    }
   ],
   "source": [
    "adj = [[1, 2], [3], [5], [4, 6], [], [7],[], [] ]\n",
    "\n",
    "visited = [[], [], [], [], [],  [], [], []]\n",
    "\n",
    "def dfs(u):\n",
    "    visited[u] = True\n",
    "    print(u)\n",
    "    for v in adj[u]:\n",
    "        if visited[v] != True:\n",
    "            dfs(v)\n",
    "\n",
    "dfs(0)       "
   ]
  },
  {
   "cell_type": "code",
   "execution_count": 2,
   "metadata": {},
   "outputs": [
    {
     "name": "stdout",
     "output_type": "stream",
     "text": [
      "0\n",
      "2\n",
      "5\n",
      "7\n",
      "1\n",
      "3\n",
      "6\n",
      "4\n"
     ]
    }
   ],
   "source": [
    "adj = [[1, 2], [3], [5], [4, 6], [], [7],[], [] ]\n",
    "\n",
    "visited = [[], [], [], [], [],  [], [], []]\n",
    "\n",
    "\n",
    "def dfsStuck(u):\n",
    "    stack =[]\n",
    "    stack.append(u)\n",
    "    \n",
    "    while stack:\n",
    "        v = stack[-1]\n",
    "        stack.pop(-1)\n",
    "        print(v)\n",
    "        visited[v] = True\n",
    "        for e in adj[v]:\n",
    "            if visited[e] != True:\n",
    "                stack.append(e)\n",
    "\n",
    "dfsStuck(0)"
   ]
  },
  {
   "cell_type": "code",
   "execution_count": 3,
   "metadata": {},
   "outputs": [
    {
     "data": {
      "text/plain": [
       "[0, 4, 1, 3, 2]"
      ]
     },
     "execution_count": 3,
     "metadata": {},
     "output_type": "execute_result"
    }
   ],
   "source": [
    "num_nodes1 = 5\n",
    "edges1 = [(0, 1), (1, 2), (2, 3), (3, 4), (4, 0), (1, 4), (1, 3)]\n",
    "num_nodes1, len(edges1)\n",
    "\n",
    "class Graph:\n",
    "    def __init__(self, num_nodes, edges):\n",
    "        self.data = [[] for _ in range(num_nodes)]\n",
    "        for v1, v2 in edges:\n",
    "            self.data[v1].append(v2)\n",
    "            self.data[v2].append(v1)\n",
    "            \n",
    "    def __repr__(self):\n",
    "        return \"\\n\".join([\"{} : {}\".format(i, neighbors) for (i, neighbors) in enumerate(self.data)])\n",
    "\n",
    "    def __str__(self):\n",
    "        return repr(self)\n",
    "    \n",
    "g1 = Graph(num_nodes1, edges1)\n",
    "\n",
    "def dfs(graph, source):\n",
    "    visited = [False] * len(graph.data)\n",
    "    stack = [source]\n",
    "    result = []\n",
    "    \n",
    "    while len(stack) > 0:\n",
    "        current = stack.pop()\n",
    "        if not visited[current]:\n",
    "            result.append(current)\n",
    "            visited[current] = True\n",
    "            for v in graph.data[current]:\n",
    "                stack.append(v)\n",
    "                \n",
    "    return result\n",
    "\n",
    "dfs(g1, 0)"
   ]
  }
 ],
 "metadata": {
  "kernelspec": {
   "display_name": "Python 3",
   "language": "python",
   "name": "python3"
  },
  "language_info": {
   "codemirror_mode": {
    "name": "ipython",
    "version": 3
   },
   "file_extension": ".py",
   "mimetype": "text/x-python",
   "name": "python",
   "nbconvert_exporter": "python",
   "pygments_lexer": "ipython3",
   "version": "3.10.7"
  }
 },
 "nbformat": 4,
 "nbformat_minor": 2
}
