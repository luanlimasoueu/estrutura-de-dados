{
 "cells": [
  {
   "cell_type": "markdown",
   "metadata": {},
   "source": [
    "https://medium.com/programadores-ajudando-programadores/os-grafos-e-os-algoritmos-697c1fd4a416"
   ]
  },
  {
   "cell_type": "code",
   "execution_count": 1,
   "metadata": {},
   "outputs": [],
   "source": [
    "class Elemento:\n",
    "    def __init__(self, cor):\n",
    "\t    self.cor = cor\n",
    "\t    self.adjacencias = []\n",
    "\n",
    "#Elementos do grafo\n",
    "A = Elemento('Cinza')\n",
    "B = Elemento('Roza')\n",
    "C = Elemento('Vermelho')\n",
    "D = Elemento('Verde')\n",
    "E = Elemento('Azul')\n",
    "F = Elemento('Amarelo')\n",
    "G = Elemento('Laranja')\n",
    "\n",
    "#Listas de adjacencias\n",
    "A.adjacencias = [B, D, E]\n",
    "B.adjacencias = [C]\n",
    "C.adjacencias = [G]\n",
    "D.adjacencias = [C]\n",
    "E.adjacencias = [D, F]\n",
    "F.adjacencias = [G]\n",
    "G.adjacencias = [D]"
   ]
  },
  {
   "cell_type": "code",
   "execution_count": 3,
   "metadata": {},
   "outputs": [
    {
     "data": {
      "text/plain": [
       "[<__main__.Elemento at 0x24937559f90>,\n",
       " <__main__.Elemento at 0x2493755ad10>,\n",
       " <__main__.Elemento at 0x24937558af0>]"
      ]
     },
     "execution_count": 3,
     "metadata": {},
     "output_type": "execute_result"
    }
   ],
   "source": [
    "A.adjacencias"
   ]
  }
 ],
 "metadata": {
  "kernelspec": {
   "display_name": "Python 3",
   "language": "python",
   "name": "python3"
  },
  "language_info": {
   "codemirror_mode": {
    "name": "ipython",
    "version": 3
   },
   "file_extension": ".py",
   "mimetype": "text/x-python",
   "name": "python",
   "nbconvert_exporter": "python",
   "pygments_lexer": "ipython3",
   "version": "3.10.7"
  }
 },
 "nbformat": 4,
 "nbformat_minor": 2
}
